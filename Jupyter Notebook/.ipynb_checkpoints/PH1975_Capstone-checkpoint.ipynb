{
 "cells": [
  {
   "cell_type": "markdown",
   "id": "3ee93c90",
   "metadata": {},
   "source": [
    "## Readme\n",
    "This is a Readme file."
   ]
  },
  {
   "cell_type": "code",
   "execution_count": 4,
   "id": "a606a4d6",
   "metadata": {},
   "outputs": [
    {
     "name": "stdout",
     "output_type": "stream",
     "text": [
      "Input a keyword:parkinson\n",
      "Input a date range (yyyy-yyyy):2000-2020\n"
     ]
    }
   ],
   "source": [
    "def WebScraper():\n",
    "    import pandas as pd\n",
    "    import requests as rq\n",
    "    from bs4 import BeautifulSoup as bs\n",
    "    \n",
    "    #Create the PubMed URL w/ query and filters\n",
    "    base_url = \"https://pubmed.ncbi.nlm.nih.gov/\"\n",
    "    size = \"10\"\n",
    "    term = input(\"Input a keyword:\")\n",
    "    years = input(\"Input a date range (yyyy-yyyy):\")\n",
    "    format = 'pubmed'\n",
    "    full_url = f\"{base_url}?term={term}&filter=years.{years}&tsize={size}\"\n",
    "    \n",
    "    #Construct the BS object\n",
    "    page = rq.get(full_url)\n",
    "    soup = bs(page.content,\"html.parser\")\n",
    "    for result in soup.find_all(\"div\", class_=\"full-docsum\"):\n",
    "        print(result.get('docsum-title'))\n",
    "\n",
    "WebScraper()"
   ]
  },
  {
   "cell_type": "code",
   "execution_count": null,
   "id": "a42a70d2",
   "metadata": {},
   "outputs": [],
   "source": []
  }
 ],
 "metadata": {
  "kernelspec": {
   "display_name": "Python 3 (ipykernel)",
   "language": "python",
   "name": "python3"
  },
  "language_info": {
   "codemirror_mode": {
    "name": "ipython",
    "version": 3
   },
   "file_extension": ".py",
   "mimetype": "text/x-python",
   "name": "python",
   "nbconvert_exporter": "python",
   "pygments_lexer": "ipython3",
   "version": "3.9.13"
  }
 },
 "nbformat": 4,
 "nbformat_minor": 5
}
